{
  "nbformat": 4,
  "nbformat_minor": 0,
  "metadata": {
    "colab": {
      "provenance": []
    },
    "kernelspec": {
      "name": "python3",
      "display_name": "Python 3"
    },
    "language_info": {
      "name": "python"
    }
  },
  "cells": [
    {
      "cell_type": "markdown",
      "source": [
        "# 🧠 Leitor Inteligente de Documentos com NLP (Português)\n",
        "\n",
        "## 🎯 Objetivo do Projeto\n",
        "\n",
        "Este projeto tem como objetivo construir uma aplicação simples de Inteligência Artificial com foco em Processamento de Linguagem Natural (NLP) para leitura e análise de documentos em PDF (ex: contratos ou relatórios), utilizando textos em **português**.\n",
        "\n",
        "### O que a aplicação faz:\n",
        "- Extrai o texto de arquivos PDF;\n",
        "- Realiza pré-processamento básico do conteúdo textual;\n",
        "- Identifica entidades como nomes, datas e organizações com **Reconhecimento de Entidades Nomeadas (NER)**;\n",
        "- Permite **responder perguntas simples** sobre o conteúdo com um modelo pré-treinado leve;\n",
        "- Simula uma API com Flask para expor a funcionalidade de pergunta/resposta.\n",
        "\n",
        "---\n",
        "\n",
        "## 🔧 Tecnologias Utilizadas\n",
        "\n",
        "| Tecnologia | Finalidade |\n",
        "|------------|------------|\n",
        "| Python | Linguagem principal |\n",
        "| Jupyter Notebook | Ambiente de desenvolvimento |\n",
        "| pdfplumber | Leitura de PDFs |\n",
        "| spaCy (`pt_core_news_md`) | NLP e NER em português |\n",
        "| Hugging Face Transformers | Modelo para perguntas e respostas |\n",
        "| Flask (simulado) | Exemplo de API REST |\n",
        "| Pandas / Numpy | Apoio à manipulação de dados |\n",
        "\n",
        "---\n",
        "\n",
        "## 🧱 Estrutura do Projeto\n",
        "\n",
        "1. `01_intro_projeto.ipynb` - Introdução e planejamento do projeto\n",
        "2. `02_leitura_pdf_preprocessamento.ipynb` - Extração e pré-processamento do texto\n",
        "3. `03_nlp_extracao_ner.ipynb` - Extração de entidades nomeadas (NER)\n",
        "4. `04_perguntas_respostas_qna.ipynb` - Modelo de Perguntas e Respostas com Transformers\n",
        "5. `05_api_simulada_flask.ipynb` - Simulação de uma API com Flask\n",
        "6. `06_conclusao_e_apresentacao.ipynb` - Conclusões e ideias de evolução\n",
        "\n",
        "\n"
      ],
      "metadata": {
        "id": "ZaPvLT8jFstF"
      }
    }
  ]
}