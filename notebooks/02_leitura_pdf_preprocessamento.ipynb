{
  "nbformat": 4,
  "nbformat_minor": 0,
  "metadata": {
    "colab": {
      "provenance": []
    },
    "kernelspec": {
      "name": "python3",
      "display_name": "Python 3"
    },
    "language_info": {
      "name": "python"
    }
  },
  "cells": [
    {
      "cell_type": "markdown",
      "source": [
        "## **Leitura e Pré-processamento de Documento PDF**"
      ],
      "metadata": {
        "id": "KXnuwtFyHgvX"
      }
    },
    {
      "cell_type": "code",
      "source": [
        "# Instalação de bibliotecas\n",
        "!pip install pdfplumber # leitura de PDFs\n",
        "!pip install unidecode  # remover acentuação e caracteres especiais"
      ],
      "metadata": {
        "colab": {
          "base_uri": "https://localhost:8080/"
        },
        "id": "38ff3WPcHRaY",
        "outputId": "9cd85ea5-e635-4abe-e5c3-b62e7fb72952"
      },
      "execution_count": 1,
      "outputs": [
        {
          "output_type": "stream",
          "name": "stdout",
          "text": [
            "Collecting pdfplumber\n",
            "  Downloading pdfplumber-0.11.6-py3-none-any.whl.metadata (42 kB)\n",
            "\u001b[?25l     \u001b[90m━━━━━━━━━━━━━━━━━━━━━━━━━━━━━━━━━━━━━━━━\u001b[0m \u001b[32m0.0/42.8 kB\u001b[0m \u001b[31m?\u001b[0m eta \u001b[36m-:--:--\u001b[0m\r\u001b[2K     \u001b[90m━━━━━━━━━━━━━━━━━━━━━━━━━━━━━━━━━━━━━━━━\u001b[0m \u001b[32m42.8/42.8 kB\u001b[0m \u001b[31m2.7 MB/s\u001b[0m eta \u001b[36m0:00:00\u001b[0m\n",
            "\u001b[?25hCollecting pdfminer.six==20250327 (from pdfplumber)\n",
            "  Downloading pdfminer_six-20250327-py3-none-any.whl.metadata (4.1 kB)\n",
            "Requirement already satisfied: Pillow>=9.1 in /usr/local/lib/python3.11/dist-packages (from pdfplumber) (11.2.1)\n",
            "Collecting pypdfium2>=4.18.0 (from pdfplumber)\n",
            "  Downloading pypdfium2-4.30.1-py3-none-manylinux_2_17_x86_64.manylinux2014_x86_64.whl.metadata (48 kB)\n",
            "\u001b[2K     \u001b[90m━━━━━━━━━━━━━━━━━━━━━━━━━━━━━━━━━━━━━━━━\u001b[0m \u001b[32m48.2/48.2 kB\u001b[0m \u001b[31m3.3 MB/s\u001b[0m eta \u001b[36m0:00:00\u001b[0m\n",
            "\u001b[?25hRequirement already satisfied: charset-normalizer>=2.0.0 in /usr/local/lib/python3.11/dist-packages (from pdfminer.six==20250327->pdfplumber) (3.4.2)\n",
            "Requirement already satisfied: cryptography>=36.0.0 in /usr/local/lib/python3.11/dist-packages (from pdfminer.six==20250327->pdfplumber) (43.0.3)\n",
            "Requirement already satisfied: cffi>=1.12 in /usr/local/lib/python3.11/dist-packages (from cryptography>=36.0.0->pdfminer.six==20250327->pdfplumber) (1.17.1)\n",
            "Requirement already satisfied: pycparser in /usr/local/lib/python3.11/dist-packages (from cffi>=1.12->cryptography>=36.0.0->pdfminer.six==20250327->pdfplumber) (2.22)\n",
            "Downloading pdfplumber-0.11.6-py3-none-any.whl (60 kB)\n",
            "\u001b[2K   \u001b[90m━━━━━━━━━━━━━━━━━━━━━━━━━━━━━━━━━━━━━━━━\u001b[0m \u001b[32m60.2/60.2 kB\u001b[0m \u001b[31m4.5 MB/s\u001b[0m eta \u001b[36m0:00:00\u001b[0m\n",
            "\u001b[?25hDownloading pdfminer_six-20250327-py3-none-any.whl (5.6 MB)\n",
            "\u001b[2K   \u001b[90m━━━━━━━━━━━━━━━━━━━━━━━━━━━━━━━━━━━━━━━━\u001b[0m \u001b[32m5.6/5.6 MB\u001b[0m \u001b[31m90.7 MB/s\u001b[0m eta \u001b[36m0:00:00\u001b[0m\n",
            "\u001b[?25hDownloading pypdfium2-4.30.1-py3-none-manylinux_2_17_x86_64.manylinux2014_x86_64.whl (2.9 MB)\n",
            "\u001b[2K   \u001b[90m━━━━━━━━━━━━━━━━━━━━━━━━━━━━━━━━━━━━━━━━\u001b[0m \u001b[32m2.9/2.9 MB\u001b[0m \u001b[31m79.4 MB/s\u001b[0m eta \u001b[36m0:00:00\u001b[0m\n",
            "\u001b[?25hInstalling collected packages: pypdfium2, pdfminer.six, pdfplumber\n",
            "Successfully installed pdfminer.six-20250327 pdfplumber-0.11.6 pypdfium2-4.30.1\n",
            "Collecting unidecode\n",
            "  Downloading Unidecode-1.4.0-py3-none-any.whl.metadata (13 kB)\n",
            "Downloading Unidecode-1.4.0-py3-none-any.whl (235 kB)\n",
            "\u001b[2K   \u001b[90m━━━━━━━━━━━━━━━━━━━━━━━━━━━━━━━━━━━━━━━━\u001b[0m \u001b[32m235.8/235.8 kB\u001b[0m \u001b[31m14.3 MB/s\u001b[0m eta \u001b[36m0:00:00\u001b[0m\n",
            "\u001b[?25hInstalling collected packages: unidecode\n",
            "Successfully installed unidecode-1.4.0\n"
          ]
        }
      ]
    },
    {
      "cell_type": "markdown",
      "source": [
        "## **Leitura do PDF**"
      ],
      "metadata": {
        "id": "8hn3JIIBHazt"
      }
    },
    {
      "cell_type": "code",
      "source": [
        "import pdfplumber\n",
        "from google.colab import files\n",
        "\n",
        "# Define o caminho do arquivo PDF\n",
        "caminho_pdf = \"/content/leitor_nlp/data/contrato_exemplo.pdf\"\n",
        "\n",
        "# Inicializa uma variável para armazenar o texto completo\n",
        "texto_extraido = \"\"\n",
        "\n",
        "# Abre o PDF e extrai o texto de cada página\n",
        "with pdfplumber.open(caminho_pdf) as pdf:\n",
        "  for pagina in pdf.pages:\n",
        "\n",
        "    # Para cada página, extrai o texto e adiciona na variável\n",
        "    texto_extraido += pagina.extract_text() + \"\\n\"\n",
        "\n",
        "# Exibe os primeiros 1000 caracteres\n",
        "print(\"Texto extraído:\")\n",
        "print(texto_extraido[:1000])"
      ],
      "metadata": {
        "colab": {
          "base_uri": "https://localhost:8080/"
        },
        "id": "4Qr2-kn_HeW6",
        "outputId": "683a7f01-1bca-4003-c422-ec2678ec66dc"
      },
      "execution_count": 3,
      "outputs": [
        {
          "output_type": "stream",
          "name": "stderr",
          "text": [
            "WARNING:pdfminer.pdfpage:CropBox missing from /Page, defaulting to MediaBox\n",
            "WARNING:pdfminer.pdfpage:CropBox missing from /Page, defaulting to MediaBox\n"
          ]
        },
        {
          "output_type": "stream",
          "name": "stdout",
          "text": [
            "Texto extraído:\n",
            "CONTRATO DE PRESTAÇÃO DE SERVIÇOS\n",
            "Pelo presente instrumento particular, as partes:\n",
            "1. CONTRATANTE: João da Silva, CPF 123.456.789-00, residente em São Paulo/SP;\n",
            "2. CONTRATADA: Empresa XYZ Ltda., CNPJ 12.345.678/0001-00, com sede em Belo\n",
            "Horizonte/MG;\n",
            "Têm entre si justo e contratado o seguinte:\n",
            "Cláusula 1ª - Objeto\n",
            "O presente contrato tem como objeto a prestação de serviços de consultoria técnica pela\n",
            "CONTRATADA à CONTRATANTE.\n",
            "Cláusula 2ª - Prazo\n",
            "O presente contrato terá vigência de 6 (seis) meses, iniciando-se em 01/01/2024.\n",
            "Cláusula 3ª - Valor\n",
            "Pelo serviço prestado, a CONTRATANTE pagará à CONTRATADA o valor de R$ 12.000,00 (doze\n",
            "mil reais), em parcelas mensais.\n",
            "E por estarem assim justos e contratados, firmam o presente instrumento.\n",
            "São Paulo, 20 de dezembro de 2023.\n",
            "\n"
          ]
        }
      ]
    },
    {
      "cell_type": "markdown",
      "source": [
        "## **Pré-processamento do text**o"
      ],
      "metadata": {
        "id": "nnCPXvoNM76g"
      }
    },
    {
      "cell_type": "code",
      "source": [
        "import re\n",
        "from unidecode import unidecode\n",
        "\n",
        "# Função para fazer a limpeza básica do texto\n",
        "def preprocessar_texto(texto):\n",
        "  texto = texto.lower()  # Transforma tudo para letras minúsculas\n",
        "  texto = unidecode(texto)  # Remove acentuação\n",
        "  texto = re.sub(r'\\s+', ' ', texto)  # Substitui múltiplos espaços e quebras de linha por um espaço\n",
        "  texto = re.sub(r'[^\\w\\s.,]', '', texto)  # Remove caracteres especiais, mantendo letras, números, espaços, pontos e vírgulas\n",
        "  return texto.strip()  # Remove espaços no início e fim do texto\n",
        "\n",
        "# Aplica a função ao texto extraído\n",
        "texto_limpo = preprocessar_texto(texto_extraido)\n",
        "\n",
        "# Mostra os primeiros 1000 caracteres do texto limpo\n",
        "print(\"Texto pré-processado:\")\n",
        "print(texto_limpo[:1000])"
      ],
      "metadata": {
        "colab": {
          "base_uri": "https://localhost:8080/"
        },
        "id": "gpZcV7YZM-ls",
        "outputId": "7c0d3db5-40c5-498d-8c75-3dcfc27d7614"
      },
      "execution_count": 4,
      "outputs": [
        {
          "output_type": "stream",
          "name": "stdout",
          "text": [
            "Texto pré-processado:\n",
            "contrato de prestacao de servicos pelo presente instrumento particular, as partes 1. contratante joao da silva, cpf 123.456.78900, residente em sao paulosp 2. contratada empresa xyz ltda., cnpj 12.345.678000100, com sede em belo horizontemg tem entre si justo e contratado o seguinte clausula 1a  objeto o presente contrato tem como objeto a prestacao de servicos de consultoria tecnica pela contratada a contratante. clausula 2a  prazo o presente contrato tera vigencia de 6 seis meses, iniciandose em 01012024. clausula 3a  valor pelo servico prestado, a contratante pagara a contratada o valor de r 12.000,00 doze mil reais, em parcelas mensais. e por estarem assim justos e contratados, firmam o presente instrumento. sao paulo, 20 de dezembro de 2023.\n"
          ]
        }
      ]
    }
  ]
}